{
 "cells": [
  {
   "cell_type": "markdown",
   "id": "32847f72",
   "metadata": {},
   "source": [
    "# Time Series - Example Part 2\n",
    "This notebook is a continuation of Toronto temperature dataset. In Part 1 we implemented Facebook's Prophet modeler. In this notebook we will load the preprocessed data from earlier to see how a neural network using Gated Recurrent Units (GRUs) will fare with the data. We will be using Tensorflow with the Keras API for this neural network"
   ]
  },
  {
   "cell_type": "code",
   "execution_count": 1,
   "id": "e09fb0a9",
   "metadata": {},
   "outputs": [],
   "source": [
    "import pandas as pd\n",
    "import numpy as np\n",
    "import matplotlib.pyplot as plt\n",
    "%matplotlib inline"
   ]
  },
  {
   "cell_type": "code",
   "execution_count": 2,
   "id": "57feb6ef",
   "metadata": {},
   "outputs": [
    {
     "name": "stdout",
     "output_type": "stream",
     "text": [
      "Tensorflow Version:  2.4.1\n",
      "Keras Version:  2.4.0\n",
      "Num GPUs Available:  1\n"
     ]
    }
   ],
   "source": [
    "import tensorflow as tf\n",
    "from tensorflow import keras\n",
    "\n",
    "print('Tensorflow Version: ', tf.__version__)\n",
    "print('Keras Version: ', tf.keras.__version__)\n",
    "print('Num GPUs Available: ', len(tf.config.experimental.list_physical_devices('GPU')))"
   ]
  },
  {
   "cell_type": "code",
   "execution_count": 3,
   "id": "51de26a2",
   "metadata": {},
   "outputs": [
    {
     "data": {
      "text/html": [
       "<div>\n",
       "<style scoped>\n",
       "    .dataframe tbody tr th:only-of-type {\n",
       "        vertical-align: middle;\n",
       "    }\n",
       "\n",
       "    .dataframe tbody tr th {\n",
       "        vertical-align: top;\n",
       "    }\n",
       "\n",
       "    .dataframe thead th {\n",
       "        text-align: right;\n",
       "    }\n",
       "</style>\n",
       "<table border=\"1\" class=\"dataframe\">\n",
       "  <thead>\n",
       "    <tr style=\"text-align: right;\">\n",
       "      <th></th>\n",
       "      <th>ds</th>\n",
       "      <th>y</th>\n",
       "    </tr>\n",
       "  </thead>\n",
       "  <tbody>\n",
       "    <tr>\n",
       "      <th>0</th>\n",
       "      <td>1937-11-01</td>\n",
       "      <td>3.3</td>\n",
       "    </tr>\n",
       "    <tr>\n",
       "      <th>1</th>\n",
       "      <td>1937-12-01</td>\n",
       "      <td>-4.4</td>\n",
       "    </tr>\n",
       "    <tr>\n",
       "      <th>2</th>\n",
       "      <td>1938-01-01</td>\n",
       "      <td>-7.2</td>\n",
       "    </tr>\n",
       "    <tr>\n",
       "      <th>3</th>\n",
       "      <td>1938-02-01</td>\n",
       "      <td>-3.7</td>\n",
       "    </tr>\n",
       "    <tr>\n",
       "      <th>4</th>\n",
       "      <td>1938-03-01</td>\n",
       "      <td>1.4</td>\n",
       "    </tr>\n",
       "  </tbody>\n",
       "</table>\n",
       "</div>"
      ],
      "text/plain": [
       "           ds    y\n",
       "0  1937-11-01  3.3\n",
       "1  1937-12-01 -4.4\n",
       "2  1938-01-01 -7.2\n",
       "3  1938-02-01 -3.7\n",
       "4  1938-03-01  1.4"
      ]
     },
     "execution_count": 3,
     "metadata": {},
     "output_type": "execute_result"
    }
   ],
   "source": [
    "toronto_preprocessed = pd.read_csv('../data/toronto_preprocessed.csv')\n",
    "toronto_preprocessed.head()"
   ]
  },
  {
   "cell_type": "code",
   "execution_count": 4,
   "id": "6dc9360d",
   "metadata": {},
   "outputs": [
    {
     "data": {
      "text/html": [
       "<div>\n",
       "<style scoped>\n",
       "    .dataframe tbody tr th:only-of-type {\n",
       "        vertical-align: middle;\n",
       "    }\n",
       "\n",
       "    .dataframe tbody tr th {\n",
       "        vertical-align: top;\n",
       "    }\n",
       "\n",
       "    .dataframe thead th {\n",
       "        text-align: right;\n",
       "    }\n",
       "</style>\n",
       "<table border=\"1\" class=\"dataframe\">\n",
       "  <thead>\n",
       "    <tr style=\"text-align: right;\">\n",
       "      <th></th>\n",
       "      <th>y</th>\n",
       "    </tr>\n",
       "    <tr>\n",
       "      <th>ds</th>\n",
       "      <th></th>\n",
       "    </tr>\n",
       "  </thead>\n",
       "  <tbody>\n",
       "    <tr>\n",
       "      <th>1940-01-01</th>\n",
       "      <td>-9.4</td>\n",
       "    </tr>\n",
       "    <tr>\n",
       "      <th>1940-02-01</th>\n",
       "      <td>-6.2</td>\n",
       "    </tr>\n",
       "    <tr>\n",
       "      <th>1940-03-01</th>\n",
       "      <td>-5.2</td>\n",
       "    </tr>\n",
       "    <tr>\n",
       "      <th>1940-04-01</th>\n",
       "      <td>4.1</td>\n",
       "    </tr>\n",
       "    <tr>\n",
       "      <th>1940-05-01</th>\n",
       "      <td>11.7</td>\n",
       "    </tr>\n",
       "  </tbody>\n",
       "</table>\n",
       "</div>"
      ],
      "text/plain": [
       "               y\n",
       "ds              \n",
       "1940-01-01  -9.4\n",
       "1940-02-01  -6.2\n",
       "1940-03-01  -5.2\n",
       "1940-04-01   4.1\n",
       "1940-05-01  11.7"
      ]
     },
     "execution_count": 4,
     "metadata": {},
     "output_type": "execute_result"
    }
   ],
   "source": [
    "toronto_rnn = toronto_preprocessed[26:].set_index('ds') #removing null values existing before 1940\n",
    "toronto_rnn.head()"
   ]
  },
  {
   "cell_type": "code",
   "execution_count": 5,
   "id": "178e7c12",
   "metadata": {},
   "outputs": [
    {
     "data": {
      "text/plain": [
       "(947, 1)"
      ]
     },
     "execution_count": 5,
     "metadata": {},
     "output_type": "execute_result"
    }
   ],
   "source": [
    "toronto_rnn.shape"
   ]
  },
  {
   "cell_type": "code",
   "execution_count": 6,
   "id": "ebd65021",
   "metadata": {},
   "outputs": [
    {
     "data": {
      "text/plain": [
       "Text(0, 0.5, 'Temperatures')"
      ]
     },
     "execution_count": 6,
     "metadata": {},
     "output_type": "execute_result"
    },
    {
     "data": {
      "image/png": "[encoded data removed]",
      "text/plain": [
       "<Figure size 720x288 with 1 Axes>"
      ]
     },
     "metadata": {
      "needs_background": "light"
     },
     "output_type": "display_data"
    }
   ],
   "source": [
    "toronto_rnn[-96:].plot(figsize=(10,4))\n",
    "plt.title('Toronto Temperatures over Time', fontsize=20)\n",
    "plt.ylabel('Temperatures', fontsize=16)"
   ]
  },
  {
   "cell_type": "code",
   "execution_count": 7,
   "id": "92ed7920",
   "metadata": {},
   "outputs": [
    {
     "data": {
      "image/png": "[encoded data removed]",
      "text/plain": [
       "<Figure size 432x288 with 1 Axes>"
      ]
     },
     "metadata": {
      "needs_background": "light"
     },
     "output_type": "display_data"
    }
   ],
   "source": [
    "from statsmodels.graphics.tsaplots import plot_acf, plot_pacf\n",
    "\n",
    "plot_pacf(toronto_rnn.loc['2010-01':].y)\n",
    "plt.show()"
   ]
  },
  {
   "cell_type": "markdown",
   "id": "672b1523",
   "metadata": {},
   "source": [
    "### Note:\n",
    "Based on the Partial Autocorrelation graph we will use a window of 11. We might also consider using a window of 6 but for the purposes of this example we will stick to a window of size 11."
   ]
  },
  {
   "cell_type": "code",
   "execution_count": 8,
   "id": "b2049d82",
   "metadata": {},
   "outputs": [],
   "source": [
    "#window size hyperparameter\n",
    "window_size = 11"
   ]
  },
  {
   "cell_type": "markdown",
   "id": "1817bf93",
   "metadata": {},
   "source": [
    "# Data Preparation"
   ]
  },
  {
   "cell_type": "code",
   "execution_count": 9,
   "id": "196bf40e",
   "metadata": {},
   "outputs": [],
   "source": [
    "def sliding_window(y_series,window_size):\n",
    "    perm_list = []\n",
    "    for i in range(len(y_series) - window_size):\n",
    "        temp_list = []\n",
    "        perm_list.append(temp_list)\n",
    "        for n in range(window_size):\n",
    "            temp_list.append(y_series[n+i])\n",
    "    X_array = np.expand_dims(np.array(perm_list),axis=2) #expanded axis for readability in keras\n",
    "    y_array = np.array(y_series[window_size:])\n",
    "    return X_array, y_array"
   ]
  },
  {
   "cell_type": "code",
   "execution_count": 10,
   "id": "a0c59d3e",
   "metadata": {},
   "outputs": [],
   "source": [
    "X, y = sliding_window(toronto_rnn.y, window_size )"
   ]
  },
  {
   "cell_type": "code",
   "execution_count": 11,
   "id": "7bd8d73e",
   "metadata": {},
   "outputs": [
    {
     "name": "stdout",
     "output_type": "stream",
     "text": [
      "Shape of X: (941, 6, 1)\n",
      "Shape of y: (941,)\n"
     ]
    }
   ],
   "source": [
    "print(f'Shape of X: {X.shape}')\n",
    "print(f'Shape of y: {y.shape}')"
   ]
  },
  {
   "cell_type": "code",
   "execution_count": 12,
   "id": "9ee8bcd7",
   "metadata": {},
   "outputs": [],
   "source": [
    "from sklearn.model_selection import train_test_split\n",
    "\n",
    "X_train_full, X_test, y_train_full, y_test = train_test_split(X, y, test_size=0.1, shuffle=False)\n",
    "\n",
    "X_train, X_valid, y_train, y_valid = train_test_split(X_train_full, y_train_full, test_size=0.1, shuffle=False)"
   ]
  },
  {
   "cell_type": "markdown",
   "id": "dc5292c9",
   "metadata": {},
   "source": [
    "# Building the Neural Network"
   ]
  },
  {
   "cell_type": "code",
   "execution_count": 13,
   "id": "be760b3a",
   "metadata": {},
   "outputs": [
    {
     "name": "stdout",
     "output_type": "stream",
     "text": [
      "WARNING:tensorflow:Layer gru will not use cuDNN kernel since it doesn't meet the cuDNN kernel criteria. It will use generic GPU kernel as fallback when running on GPU\n",
      "WARNING:tensorflow:Layer gru_1 will not use cuDNN kernel since it doesn't meet the cuDNN kernel criteria. It will use generic GPU kernel as fallback when running on GPU\n",
      "WARNING:tensorflow:Layer gru_2 will not use cuDNN kernel since it doesn't meet the cuDNN kernel criteria. It will use generic GPU kernel as fallback when running on GPU\n",
      "WARNING:tensorflow:Layer gru_3 will not use cuDNN kernel since it doesn't meet the cuDNN kernel criteria. It will use generic GPU kernel as fallback when running on GPU\n"
     ]
    }
   ],
   "source": [
    "from tensorflow.keras.models import Sequential \n",
    "from tensorflow.keras.layers import Dense, GRU, Dropout\n",
    "\n",
    "input_shape = (window_size,1)\n",
    "drop_rate = 0.5\n",
    "\n",
    "model = Sequential()  \n",
    "model.add(GRU(600, activation = \"relu\", input_shape = input_shape, return_sequences=True))\n",
    "#model.add(Dropout(drop_rate))\n",
    "model.add(GRU(300, activation = \"relu\", input_shape = input_shape, return_sequences=True))\n",
    "#model.add(Dropout(drop_rate))\n",
    "model.add(GRU(150, activation = \"relu\", input_shape = input_shape, return_sequences=True))\n",
    "#model.add(Dropout(drop_rate))\n",
    "model.add(GRU(75, activation = \"relu\", input_shape = input_shape))\n",
    "model.add(Dense(1))"
   ]
  },
  {
   "cell_type": "code",
   "execution_count": 14,
   "id": "dfa45966",
   "metadata": {},
   "outputs": [],
   "source": [
    "model.compile(optimizer='adam',\n",
    "              loss='mse')"
   ]
  },
  {
   "cell_type": "code",
   "execution_count": 15,
   "id": "a006cb5e",
   "metadata": {},
   "outputs": [
    {
     "name": "stdout",
     "output_type": "stream",
     "text": [
      "Epoch 1/300\n",
      "24/24 [==============================] - 9s 163ms/step - loss: 100.2663 - val_loss: 12.5119\n",
      "Epoch 2/300\n",
      "24/24 [==============================] - 2s 102ms/step - loss: 7.4459 - val_loss: 7.3335\n",
      "Epoch 3/300\n",
      "24/24 [==============================] - 2s 104ms/step - loss: 5.7406 - val_loss: 6.1959\n",
      "Epoch 4/300\n",
      "24/24 [==============================] - 3s 105ms/step - loss: 4.9073 - val_loss: 6.0290\n",
      "Epoch 5/300\n",
      "24/24 [==============================] - 2s 103ms/step - loss: 5.4104 - val_loss: 6.8329\n",
      "Epoch 6/300\n",
      "24/24 [==============================] - 2s 102ms/step - loss: 5.7078 - val_loss: 7.2207\n",
      "Epoch 7/300\n",
      "24/24 [==============================] - 3s 105ms/step - loss: 5.3451 - val_loss: 9.0127\n",
      "Epoch 8/300\n",
      "24/24 [==============================] - 2s 103ms/step - loss: 5.3846 - val_loss: 5.5261\n",
      "Epoch 9/300\n",
      "24/24 [==============================] - 2s 103ms/step - loss: 5.1244 - val_loss: 7.4691\n",
      "Epoch 10/300\n",
      "24/24 [==============================] - 2s 104ms/step - loss: 4.7789 - val_loss: 4.7776\n",
      "Epoch 11/300\n",
      "24/24 [==============================] - 2s 103ms/step - loss: 4.6160 - val_loss: 6.6473\n",
      "Epoch 12/300\n",
      "24/24 [==============================] - 3s 105ms/step - loss: 4.5301 - val_loss: 4.7499\n",
      "Epoch 13/300\n",
      "24/24 [==============================] - 3s 105ms/step - loss: 4.3641 - val_loss: 6.1258\n",
      "Epoch 14/300\n",
      "24/24 [==============================] - 3s 104ms/step - loss: 4.0093 - val_loss: 5.0371\n",
      "Epoch 15/300\n",
      "24/24 [==============================] - 2s 103ms/step - loss: 4.4257 - val_loss: 4.9302\n",
      "Epoch 16/300\n",
      "24/24 [==============================] - 3s 105ms/step - loss: 4.1150 - val_loss: 5.6441\n",
      "Epoch 17/300\n",
      "24/24 [==============================] - 2s 104ms/step - loss: 4.6945 - val_loss: 5.5627\n",
      "Epoch 18/300\n",
      "24/24 [==============================] - 2s 103ms/step - loss: 3.9530 - val_loss: 4.2196\n",
      "Epoch 19/300\n",
      "24/24 [==============================] - 3s 105ms/step - loss: 4.0424 - val_loss: 6.0785\n",
      "Epoch 20/300\n",
      "24/24 [==============================] - 3s 106ms/step - loss: 3.8320 - val_loss: 6.2026\n",
      "Epoch 21/300\n",
      "24/24 [==============================] - 2s 102ms/step - loss: 4.1809 - val_loss: 4.4632\n",
      "Epoch 22/300\n",
      "24/24 [==============================] - 2s 103ms/step - loss: 3.7679 - val_loss: 4.2311\n",
      "Epoch 23/300\n",
      "24/24 [==============================] - 3s 105ms/step - loss: 4.1303 - val_loss: 5.4346\n",
      "Epoch 24/300\n",
      "24/24 [==============================] - 3s 105ms/step - loss: 4.1855 - val_loss: 6.0860\n",
      "Epoch 25/300\n",
      "24/24 [==============================] - 3s 106ms/step - loss: 4.0196 - val_loss: 5.9121\n",
      "Epoch 26/300\n",
      "24/24 [==============================] - 3s 105ms/step - loss: 4.2196 - val_loss: 5.1326\n",
      "Epoch 27/300\n",
      "24/24 [==============================] - 3s 105ms/step - loss: 3.7358 - val_loss: 5.9972\n",
      "Epoch 28/300\n",
      "24/24 [==============================] - 3s 105ms/step - loss: 4.3251 - val_loss: 5.4972\n",
      "Epoch 29/300\n",
      "24/24 [==============================] - 2s 103ms/step - loss: 4.3055 - val_loss: 5.9255\n",
      "Epoch 30/300\n",
      "24/24 [==============================] - 2s 103ms/step - loss: 3.9386 - val_loss: 5.8041\n",
      "Epoch 31/300\n",
      "24/24 [==============================] - 3s 104ms/step - loss: 3.8758 - val_loss: 4.1927\n",
      "Epoch 32/300\n",
      "24/24 [==============================] - 3s 104ms/step - loss: 4.8493 - val_loss: 8.5240\n",
      "Epoch 33/300\n",
      "24/24 [==============================] - 3s 105ms/step - loss: 3.8665 - val_loss: 4.6303\n",
      "Epoch 34/300\n",
      "24/24 [==============================] - 2s 104ms/step - loss: 4.1544 - val_loss: 5.5561\n",
      "Epoch 35/300\n",
      "24/24 [==============================] - 2s 104ms/step - loss: 3.8124 - val_loss: 4.8077\n",
      "Epoch 36/300\n",
      "24/24 [==============================] - 3s 104ms/step - loss: 3.8932 - val_loss: 6.7911\n",
      "Epoch 37/300\n",
      "24/24 [==============================] - 2s 104ms/step - loss: 4.0624 - val_loss: 5.7422\n",
      "Epoch 38/300\n",
      "24/24 [==============================] - 2s 103ms/step - loss: 3.6090 - val_loss: 5.1972\n",
      "Epoch 39/300\n",
      "24/24 [==============================] - 3s 105ms/step - loss: 3.2831 - val_loss: 6.7054\n",
      "Epoch 40/300\n",
      "24/24 [==============================] - 2s 103ms/step - loss: 3.9370 - val_loss: 5.7271\n",
      "Epoch 41/300\n",
      "24/24 [==============================] - 3s 105ms/step - loss: 3.7310 - val_loss: 6.4584\n",
      "Epoch 42/300\n",
      "24/24 [==============================] - 2s 103ms/step - loss: 3.9673 - val_loss: 4.6897\n",
      "Epoch 43/300\n",
      "24/24 [==============================] - 2s 104ms/step - loss: 3.7498 - val_loss: 5.0186\n",
      "Epoch 44/300\n",
      "24/24 [==============================] - 2s 103ms/step - loss: 4.1798 - val_loss: 5.4370\n",
      "Epoch 45/300\n",
      "24/24 [==============================] - 2s 104ms/step - loss: 3.3811 - val_loss: 6.8487\n",
      "Epoch 46/300\n",
      "24/24 [==============================] - 3s 104ms/step - loss: 3.8553 - val_loss: 5.8066\n",
      "Epoch 47/300\n",
      "24/24 [==============================] - 2s 103ms/step - loss: 3.7448 - val_loss: 5.3616\n",
      "Epoch 48/300\n",
      "24/24 [==============================] - 2s 104ms/step - loss: 3.5405 - val_loss: 6.2576\n",
      "Epoch 49/300\n",
      "24/24 [==============================] - 2s 103ms/step - loss: 3.9406 - val_loss: 4.5880\n",
      "Epoch 50/300\n",
      "24/24 [==============================] - 2s 104ms/step - loss: 3.8373 - val_loss: 6.7290\n",
      "Epoch 51/300\n",
      "24/24 [==============================] - 2s 103ms/step - loss: 3.9206 - val_loss: 4.5894\n",
      "Epoch 52/300\n",
      "24/24 [==============================] - 3s 111ms/step - loss: 4.2295 - val_loss: 6.3587\n",
      "Epoch 53/300\n",
      "24/24 [==============================] - 3s 108ms/step - loss: 3.7475 - val_loss: 5.7719\n",
      "Epoch 54/300\n",
      "24/24 [==============================] - 2s 102ms/step - loss: 3.4349 - val_loss: 6.9606\n",
      "Epoch 55/300\n",
      "24/24 [==============================] - 3s 105ms/step - loss: 3.6434 - val_loss: 5.5442\n",
      "Epoch 56/300\n",
      "24/24 [==============================] - 3s 104ms/step - loss: 3.5626 - val_loss: 4.9172\n"
     ]
    }
   ],
   "source": [
    "callbacks = [tf.keras.callbacks.EarlyStopping(patience=25)]\n",
    "\n",
    "validation_data=(X_valid,y_valid)\n",
    "\n",
    "history = model.fit(x=X_train,\n",
    "                    y=y_train,\n",
    "                    epochs=300,\n",
    "                    batch_size=None,\n",
    "                    callbacks=callbacks,\n",
    "                    validation_data=validation_data)"
   ]
  },
  {
   "cell_type": "code",
   "execution_count": 16,
   "id": "5eb8d6f2",
   "metadata": {},
   "outputs": [
    {
     "data": {
      "text/plain": [
       "<matplotlib.legend.Legend at 0x1e60ed144f0>"
      ]
     },
     "execution_count": 16,
     "metadata": {},
     "output_type": "execute_result"
    },
    {
     "data": {
      "image/png": "[encoded data removed]",
      "text/plain": [
       "<Figure size 432x288 with 1 Axes>"
      ]
     },
     "metadata": {
      "needs_background": "light"
     },
     "output_type": "display_data"
    }
   ],
   "source": [
    "#Training v. Validation Loss\n",
    "plt.plot(history.history['loss'])\n",
    "plt.plot(history.history['val_loss'])\n",
    "plt.title('model loss')\n",
    "plt.ylabel('loss')\n",
    "plt.xlabel('epoch')\n",
    "plt.legend(['train', 'val'], loc='upper left')"
   ]
  },
  {
   "cell_type": "markdown",
   "id": "e859d313",
   "metadata": {},
   "source": [
    "# Model Evaluation"
   ]
  },
  {
   "cell_type": "code",
   "execution_count": 17,
   "id": "b7bfab3a",
   "metadata": {},
   "outputs": [
    {
     "name": "stdout",
     "output_type": "stream",
     "text": [
      "3/3 [==============================] - 0s 14ms/step - loss: 5.9843\n"
     ]
    },
    {
     "data": {
      "text/plain": [
       "5.98427677154541"
      ]
     },
     "execution_count": 17,
     "metadata": {},
     "output_type": "execute_result"
    }
   ],
   "source": [
    "model.evaluate(X_test, y_test)"
   ]
  },
  {
   "cell_type": "code",
   "execution_count": 18,
   "id": "2c64cc12",
   "metadata": {},
   "outputs": [
    {
     "data": {
      "text/plain": [
       "<matplotlib.legend.Legend at 0x1e6169ec640>"
      ]
     },
     "execution_count": 18,
     "metadata": {},
     "output_type": "execute_result"
    },
    {
     "data": {
      "image/png": "[encoded data removed]",
      "text/plain": [
       "<Figure size 720x288 with 1 Axes>"
      ]
     },
     "metadata": {
      "needs_background": "light"
     },
     "output_type": "display_data"
    }
   ],
   "source": [
    "predictions = model.predict(X_test)\n",
    "plt.figure(figsize=(10,4))\n",
    "plt.plot(predictions,label='predictions')\n",
    "plt.plot(y_test,label='actual')\n",
    "plt.legend()"
   ]
  },
  {
   "cell_type": "code",
   "execution_count": 19,
   "id": "14fd9a87",
   "metadata": {},
   "outputs": [
    {
     "data": {
      "text/html": [
       "<div>\n",
       "<style scoped>\n",
       "    .dataframe tbody tr th:only-of-type {\n",
       "        vertical-align: middle;\n",
       "    }\n",
       "\n",
       "    .dataframe tbody tr th {\n",
       "        vertical-align: top;\n",
       "    }\n",
       "\n",
       "    .dataframe thead th {\n",
       "        text-align: right;\n",
       "    }\n",
       "</style>\n",
       "<table border=\"1\" class=\"dataframe\">\n",
       "  <thead>\n",
       "    <tr style=\"text-align: right;\">\n",
       "      <th></th>\n",
       "      <th>predictions</th>\n",
       "    </tr>\n",
       "  </thead>\n",
       "  <tbody>\n",
       "    <tr>\n",
       "      <th>0</th>\n",
       "      <td>-6.601014</td>\n",
       "    </tr>\n",
       "    <tr>\n",
       "      <th>1</th>\n",
       "      <td>-5.900877</td>\n",
       "    </tr>\n",
       "    <tr>\n",
       "      <th>2</th>\n",
       "      <td>-1.029050</td>\n",
       "    </tr>\n",
       "    <tr>\n",
       "      <th>3</th>\n",
       "      <td>7.115436</td>\n",
       "    </tr>\n",
       "    <tr>\n",
       "      <th>4</th>\n",
       "      <td>13.501894</td>\n",
       "    </tr>\n",
       "  </tbody>\n",
       "</table>\n",
       "</div>"
      ],
      "text/plain": [
       "   predictions\n",
       "0    -6.601014\n",
       "1    -5.900877\n",
       "2    -1.029050\n",
       "3     7.115436\n",
       "4    13.501894"
      ]
     },
     "execution_count": 19,
     "metadata": {},
     "output_type": "execute_result"
    }
   ],
   "source": [
    "pred_df = pd.DataFrame(predictions,columns=['predictions'])\n",
    "pred_df.head()"
   ]
  },
  {
   "cell_type": "code",
   "execution_count": 20,
   "id": "61cf4455",
   "metadata": {},
   "outputs": [
    {
     "data": {
      "text/plain": [
       "<seaborn.axisgrid.FacetGrid at 0x1e616a2af40>"
      ]
     },
     "execution_count": 20,
     "metadata": {},
     "output_type": "execute_result"
    },
    {
     "data": {
      "image/png": "[encoded data removed]",
      "text/plain": [
       "<Figure size 360x360 with 1 Axes>"
      ]
     },
     "metadata": {
      "needs_background": "light"
     },
     "output_type": "display_data"
    }
   ],
   "source": [
    "import seaborn as sns\n",
    "residuals = pred_df.predictions - y_test\n",
    "sns.displot(data=residuals,kind='kde')"
   ]
  },
  {
   "cell_type": "code",
   "execution_count": 21,
   "id": "22ee7c12",
   "metadata": {},
   "outputs": [],
   "source": [
    "from sklearn import metrics\n",
    "import numpy as np\n",
    "\n",
    "MAE = metrics.mean_absolute_error(y_test,predictions)\n",
    "MAPE = metrics.mean_absolute_percentage_error(y_test,predictions) * 100\n",
    "MSE = metrics.mean_squared_error(y_test,predictions)\n",
    "RMSE = np.sqrt(metrics.mean_squared_error(y_test,predictions))\n",
    "MedAE = metrics.median_absolute_error(y_test,predictions)\n",
    "MedAPE = np.median((np.abs(np.subtract(y_test, predictions)/ y_test))) * 100"
   ]
  },
  {
   "cell_type": "code",
   "execution_count": 22,
   "id": "653abb01",
   "metadata": {},
   "outputs": [
    {
     "name": "stdout",
     "output_type": "stream",
     "text": [
      "MAE: 1.89\n",
      "MAPE: 204.48 %\n",
      "MSE: 5.98\n",
      "RMSE: 2.45\n",
      "MedAE: 1.61\n",
      "MedAPE: 112.51 %\n"
     ]
    }
   ],
   "source": [
    "print('MAE:', np.round(MAE,2))\n",
    "print('MAPE:', np.round(MAPE,2),'%')\n",
    "print('MSE:', np.round(MSE,2))\n",
    "print('RMSE:', np.round(RMSE,2))\n",
    "print('MedAE:', np.round(MedAE,2))\n",
    "print('MedAPE:',np.round(MedAPE,2),'%')"
   ]
  },
  {
   "cell_type": "markdown",
   "id": "c251604b",
   "metadata": {},
   "source": [
    "# Analyzing the Results\n"
   ]
  },
  {
   "cell_type": "markdown",
   "id": "6259c93d",
   "metadata": {},
   "source": [
    "We can observe that although the model is tracking well with thde actual predictions the predictions themselves are not necessarily in line with the actual results. In terms of the residuals of our RNN model compared to the residuals of the PROPHET model we should discuss the concept of kurtosis. Essentially, Kurtosis deals with how heavily the tails of the distribution differ from a standard normal distribution. Here, the residual distribution seems to exhibit more leptokurtic behavior. This means that the tails are longer leaving a narrower & pointer bell in the middle. Leptokurtic distributions tend to have more erratic behavior with more values appearing on the extremes of the distribution.\n",
    "\n",
    "One possible reason for the erratic behavior of our predictions is likely due to the lack of time-series preprocessing one might expect for these types of predictions. Rather than removing seasonality and trends we simply created a window based on the PACF results and passed the series into the neural network. Seeing as neural networks are capable of complex tasks it would be nice to see the network catch on to the seasonal trends without having to manually preprocess the data to help our network find the underlying trends.\n",
    "\n",
    "Having received the results we received we can see that this model would require a significant amount of alteration and experimentation before approaching the results that the PROPHET model achieved. PROPHET is specifically designed to handle time series data whereas neural networks are fairly general purpose with applications to a variety of topics. Neural networks are considered blackboxes where the methodology of the outputs of the network are not easily understood. This makes fine-tuning neural networks notoriously difficult and time-consuming. This is a case of choosing the right tool for the right job and for this particular tasks we would be better off using standard time series analysis tools."
   ]
  }
 ],
 "metadata": {
  "kernelspec": {
   "display_name": "Python [conda env:tensorflow]",
   "language": "python",
   "name": "conda-env-tensorflow-py"
  },
  "language_info": {
   "codemirror_mode": {
    "name": "ipython",
    "version": 3
   },
   "file_extension": ".py",
   "mimetype": "text/x-python",
   "name": "python",
   "nbconvert_exporter": "python",
   "pygments_lexer": "ipython3",
   "version": "3.8.8"
  }
 },
 "nbformat": 4,
 "nbformat_minor": 5
}
