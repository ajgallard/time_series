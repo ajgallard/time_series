{
 "cells": [
  {
   "cell_type": "markdown",
   "id": "a3518e60",
   "metadata": {},
   "source": [
    "# Time Series with Prophet\n",
    "Prophet is a forecasting modeler built by the data science team at Facebook introduced with the \"Forecasting at Scale\" paper published in 2017. It is a simple, sklearn-based api that allows users with basic-knowledge to experts to quickly create a working Time Series model. It has several layers of hyperparameter tuning for those inclined to extract the most powerful model possible for their dataset.\n",
    "\n",
    "We will be implementing a quick Time Series model using the automated features of the Prophet modeler using the ice_cream.csv file to project a couple months into the future."
   ]
  },
  {
   "cell_type": "markdown",
   "id": "ed73a788",
   "metadata": {},
   "source": [
    "### Installation for Python on Windows 10 using Anaconda\n",
    "\n",
    "conda install -c conda-forge prophet\n",
    "\n",
    "[see documentation for other installations processes](https://facebook.github.io/prophet/docs/installation.html#python)"
   ]
  },
  {
   "cell_type": "code",
   "execution_count": 1,
   "id": "c901d902",
   "metadata": {},
   "outputs": [
    {
     "name": "stderr",
     "output_type": "stream",
     "text": [
      "Importing plotly failed. Interactive plots will not work.\n"
     ]
    }
   ],
   "source": [
    "from prophet import Prophet\n",
    "import matplotlib.pyplot as plt\n",
    "import pandas as pd"
   ]
  },
  {
   "cell_type": "code",
   "execution_count": 2,
   "id": "44581243",
   "metadata": {},
   "outputs": [],
   "source": [
    "ice_cream = pd.read_csv('data/ice_cream.csv')"
   ]
  },
  {
   "cell_type": "code",
   "execution_count": 3,
   "id": "43f624d2",
   "metadata": {},
   "outputs": [
    {
     "data": {
      "text/html": [
       "<div>\n",
       "<style scoped>\n",
       "    .dataframe tbody tr th:only-of-type {\n",
       "        vertical-align: middle;\n",
       "    }\n",
       "\n",
       "    .dataframe tbody tr th {\n",
       "        vertical-align: top;\n",
       "    }\n",
       "\n",
       "    .dataframe thead th {\n",
       "        text-align: right;\n",
       "    }\n",
       "</style>\n",
       "<table border=\"1\" class=\"dataframe\">\n",
       "  <thead>\n",
       "    <tr style=\"text-align: right;\">\n",
       "      <th></th>\n",
       "      <th>DATE</th>\n",
       "      <th>IPN31152N</th>\n",
       "    </tr>\n",
       "  </thead>\n",
       "  <tbody>\n",
       "    <tr>\n",
       "      <th>0</th>\n",
       "      <td>1972-01-01</td>\n",
       "      <td>59.9622</td>\n",
       "    </tr>\n",
       "    <tr>\n",
       "      <th>1</th>\n",
       "      <td>1972-02-01</td>\n",
       "      <td>67.0605</td>\n",
       "    </tr>\n",
       "    <tr>\n",
       "      <th>2</th>\n",
       "      <td>1972-03-01</td>\n",
       "      <td>74.2350</td>\n",
       "    </tr>\n",
       "    <tr>\n",
       "      <th>3</th>\n",
       "      <td>1972-04-01</td>\n",
       "      <td>78.1120</td>\n",
       "    </tr>\n",
       "    <tr>\n",
       "      <th>4</th>\n",
       "      <td>1972-05-01</td>\n",
       "      <td>84.7636</td>\n",
       "    </tr>\n",
       "  </tbody>\n",
       "</table>\n",
       "</div>"
      ],
      "text/plain": [
       "         DATE  IPN31152N\n",
       "0  1972-01-01    59.9622\n",
       "1  1972-02-01    67.0605\n",
       "2  1972-03-01    74.2350\n",
       "3  1972-04-01    78.1120\n",
       "4  1972-05-01    84.7636"
      ]
     },
     "execution_count": 3,
     "metadata": {},
     "output_type": "execute_result"
    }
   ],
   "source": [
    "ice_cream.head()"
   ]
  },
  {
   "cell_type": "markdown",
   "id": "3be91de2",
   "metadata": {},
   "source": [
    "## IMPORTANT NOTE:\n",
    "Prophet will only accept a pandas Dataframe with columns named 'ds' & 'y' for the date-time data & feature value-set respectively"
   ]
  },
  {
   "cell_type": "code",
   "execution_count": 4,
   "id": "50a7d0c1",
   "metadata": {},
   "outputs": [],
   "source": [
    "ice_cream.rename(columns={'DATE':'ds', 'IPN31152N':'y'}, inplace=True)\n",
    "ice_cream['ds'] = pd.to_datetime(ice_cream.ds)\n",
    "ice_cream = ice_cream.loc[(ice_cream['ds'] >= '2010-01-01')] # beginning dataset at 2010 rather than 1972\n",
    "ice_cream = ice_cream.reset_index(drop=True) # reseting index to begin at 0"
   ]
  },
  {
   "cell_type": "code",
   "execution_count": 5,
   "id": "9c49c5d8",
   "metadata": {},
   "outputs": [
    {
     "data": {
      "text/html": [
       "<div>\n",
       "<style scoped>\n",
       "    .dataframe tbody tr th:only-of-type {\n",
       "        vertical-align: middle;\n",
       "    }\n",
       "\n",
       "    .dataframe tbody tr th {\n",
       "        vertical-align: top;\n",
       "    }\n",
       "\n",
       "    .dataframe thead th {\n",
       "        text-align: right;\n",
       "    }\n",
       "</style>\n",
       "<table border=\"1\" class=\"dataframe\">\n",
       "  <thead>\n",
       "    <tr style=\"text-align: right;\">\n",
       "      <th></th>\n",
       "      <th>ds</th>\n",
       "      <th>y</th>\n",
       "    </tr>\n",
       "  </thead>\n",
       "  <tbody>\n",
       "    <tr>\n",
       "      <th>0</th>\n",
       "      <td>2010-01-01</td>\n",
       "      <td>91.2895</td>\n",
       "    </tr>\n",
       "    <tr>\n",
       "      <th>1</th>\n",
       "      <td>2010-02-01</td>\n",
       "      <td>110.4994</td>\n",
       "    </tr>\n",
       "    <tr>\n",
       "      <th>2</th>\n",
       "      <td>2010-03-01</td>\n",
       "      <td>127.0971</td>\n",
       "    </tr>\n",
       "    <tr>\n",
       "      <th>3</th>\n",
       "      <td>2010-04-01</td>\n",
       "      <td>132.6468</td>\n",
       "    </tr>\n",
       "    <tr>\n",
       "      <th>4</th>\n",
       "      <td>2010-05-01</td>\n",
       "      <td>134.5576</td>\n",
       "    </tr>\n",
       "  </tbody>\n",
       "</table>\n",
       "</div>"
      ],
      "text/plain": [
       "          ds         y\n",
       "0 2010-01-01   91.2895\n",
       "1 2010-02-01  110.4994\n",
       "2 2010-03-01  127.0971\n",
       "3 2010-04-01  132.6468\n",
       "4 2010-05-01  134.5576"
      ]
     },
     "execution_count": 5,
     "metadata": {},
     "output_type": "execute_result"
    }
   ],
   "source": [
    "ice_cream.head()"
   ]
  },
  {
   "cell_type": "markdown",
   "id": "9d2618b3",
   "metadata": {},
   "source": [
    "# Train & Test Sets\n",
    "we will be forecasting for the next quarter using the final three months within our dataset"
   ]
  },
  {
   "cell_type": "code",
   "execution_count": 6,
   "id": "efe95d9c",
   "metadata": {},
   "outputs": [
    {
     "data": {
      "text/html": [
       "<div>\n",
       "<style scoped>\n",
       "    .dataframe tbody tr th:only-of-type {\n",
       "        vertical-align: middle;\n",
       "    }\n",
       "\n",
       "    .dataframe tbody tr th {\n",
       "        vertical-align: top;\n",
       "    }\n",
       "\n",
       "    .dataframe thead th {\n",
       "        text-align: right;\n",
       "    }\n",
       "</style>\n",
       "<table border=\"1\" class=\"dataframe\">\n",
       "  <thead>\n",
       "    <tr style=\"text-align: right;\">\n",
       "      <th></th>\n",
       "      <th>ds</th>\n",
       "      <th>y</th>\n",
       "    </tr>\n",
       "  </thead>\n",
       "  <tbody>\n",
       "    <tr>\n",
       "      <th>118</th>\n",
       "      <td>2019-11-01</td>\n",
       "      <td>79.7223</td>\n",
       "    </tr>\n",
       "    <tr>\n",
       "      <th>119</th>\n",
       "      <td>2019-12-01</td>\n",
       "      <td>75.7094</td>\n",
       "    </tr>\n",
       "    <tr>\n",
       "      <th>120</th>\n",
       "      <td>2020-01-01</td>\n",
       "      <td>83.6290</td>\n",
       "    </tr>\n",
       "  </tbody>\n",
       "</table>\n",
       "</div>"
      ],
      "text/plain": [
       "            ds        y\n",
       "118 2019-11-01  79.7223\n",
       "119 2019-12-01  75.7094\n",
       "120 2020-01-01  83.6290"
      ]
     },
     "execution_count": 6,
     "metadata": {},
     "output_type": "execute_result"
    }
   ],
   "source": [
    "ice_cream[-3:]"
   ]
  },
  {
   "cell_type": "code",
   "execution_count": 7,
   "id": "474c89f2",
   "metadata": {},
   "outputs": [],
   "source": [
    "ic_test = ice_cream[-3:]"
   ]
  },
  {
   "cell_type": "code",
   "execution_count": 8,
   "id": "23f5a281",
   "metadata": {},
   "outputs": [
    {
     "data": {
      "text/html": [
       "<div>\n",
       "<style scoped>\n",
       "    .dataframe tbody tr th:only-of-type {\n",
       "        vertical-align: middle;\n",
       "    }\n",
       "\n",
       "    .dataframe tbody tr th {\n",
       "        vertical-align: top;\n",
       "    }\n",
       "\n",
       "    .dataframe thead th {\n",
       "        text-align: right;\n",
       "    }\n",
       "</style>\n",
       "<table border=\"1\" class=\"dataframe\">\n",
       "  <thead>\n",
       "    <tr style=\"text-align: right;\">\n",
       "      <th></th>\n",
       "      <th>ds</th>\n",
       "      <th>y</th>\n",
       "    </tr>\n",
       "  </thead>\n",
       "  <tbody>\n",
       "    <tr>\n",
       "      <th>0</th>\n",
       "      <td>2010-01-01</td>\n",
       "      <td>91.2895</td>\n",
       "    </tr>\n",
       "    <tr>\n",
       "      <th>1</th>\n",
       "      <td>2010-02-01</td>\n",
       "      <td>110.4994</td>\n",
       "    </tr>\n",
       "    <tr>\n",
       "      <th>2</th>\n",
       "      <td>2010-03-01</td>\n",
       "      <td>127.0971</td>\n",
       "    </tr>\n",
       "    <tr>\n",
       "      <th>3</th>\n",
       "      <td>2010-04-01</td>\n",
       "      <td>132.6468</td>\n",
       "    </tr>\n",
       "    <tr>\n",
       "      <th>4</th>\n",
       "      <td>2010-05-01</td>\n",
       "      <td>134.5576</td>\n",
       "    </tr>\n",
       "    <tr>\n",
       "      <th>...</th>\n",
       "      <td>...</td>\n",
       "      <td>...</td>\n",
       "    </tr>\n",
       "    <tr>\n",
       "      <th>113</th>\n",
       "      <td>2019-06-01</td>\n",
       "      <td>124.9605</td>\n",
       "    </tr>\n",
       "    <tr>\n",
       "      <th>114</th>\n",
       "      <td>2019-07-01</td>\n",
       "      <td>110.2632</td>\n",
       "    </tr>\n",
       "    <tr>\n",
       "      <th>115</th>\n",
       "      <td>2019-08-01</td>\n",
       "      <td>102.6085</td>\n",
       "    </tr>\n",
       "    <tr>\n",
       "      <th>116</th>\n",
       "      <td>2019-09-01</td>\n",
       "      <td>100.1741</td>\n",
       "    </tr>\n",
       "    <tr>\n",
       "      <th>117</th>\n",
       "      <td>2019-10-01</td>\n",
       "      <td>90.1684</td>\n",
       "    </tr>\n",
       "  </tbody>\n",
       "</table>\n",
       "<p>118 rows × 2 columns</p>\n",
       "</div>"
      ],
      "text/plain": [
       "            ds         y\n",
       "0   2010-01-01   91.2895\n",
       "1   2010-02-01  110.4994\n",
       "2   2010-03-01  127.0971\n",
       "3   2010-04-01  132.6468\n",
       "4   2010-05-01  134.5576\n",
       "..         ...       ...\n",
       "113 2019-06-01  124.9605\n",
       "114 2019-07-01  110.2632\n",
       "115 2019-08-01  102.6085\n",
       "116 2019-09-01  100.1741\n",
       "117 2019-10-01   90.1684\n",
       "\n",
       "[118 rows x 2 columns]"
      ]
     },
     "execution_count": 8,
     "metadata": {},
     "output_type": "execute_result"
    }
   ],
   "source": [
    "ice_cream[:-3]"
   ]
  },
  {
   "cell_type": "code",
   "execution_count": 9,
   "id": "f50b492d",
   "metadata": {},
   "outputs": [],
   "source": [
    "ic_train = ice_cream[:-3]"
   ]
  },
  {
   "cell_type": "markdown",
   "id": "bdf65b65",
   "metadata": {},
   "source": [
    "# Using Prophet with our Data"
   ]
  },
  {
   "cell_type": "code",
   "execution_count": 10,
   "id": "d02c47fb",
   "metadata": {},
   "outputs": [
    {
     "name": "stderr",
     "output_type": "stream",
     "text": [
      "INFO:prophet:Disabling weekly seasonality. Run prophet with weekly_seasonality=True to override this.\n",
      "INFO:prophet:Disabling daily seasonality. Run prophet with daily_seasonality=True to override this.\n"
     ]
    },
    {
     "data": {
      "text/plain": [
       "<prophet.forecaster.Prophet at 0x1f28ad61580>"
      ]
     },
     "execution_count": 10,
     "metadata": {},
     "output_type": "execute_result"
    }
   ],
   "source": [
    "interval=0.95\n",
    "\n",
    "m = Prophet(interval_width=interval)\n",
    "m.fit(ic_train)"
   ]
  },
  {
   "cell_type": "code",
   "execution_count": 11,
   "id": "7c687aa0",
   "metadata": {},
   "outputs": [
    {
     "data": {
      "text/html": [
       "<div>\n",
       "<style scoped>\n",
       "    .dataframe tbody tr th:only-of-type {\n",
       "        vertical-align: middle;\n",
       "    }\n",
       "\n",
       "    .dataframe tbody tr th {\n",
       "        vertical-align: top;\n",
       "    }\n",
       "\n",
       "    .dataframe thead th {\n",
       "        text-align: right;\n",
       "    }\n",
       "</style>\n",
       "<table border=\"1\" class=\"dataframe\">\n",
       "  <thead>\n",
       "    <tr style=\"text-align: right;\">\n",
       "      <th></th>\n",
       "      <th>ds</th>\n",
       "    </tr>\n",
       "  </thead>\n",
       "  <tbody>\n",
       "    <tr>\n",
       "      <th>116</th>\n",
       "      <td>2019-09-01</td>\n",
       "    </tr>\n",
       "    <tr>\n",
       "      <th>117</th>\n",
       "      <td>2019-10-01</td>\n",
       "    </tr>\n",
       "    <tr>\n",
       "      <th>118</th>\n",
       "      <td>2019-11-01</td>\n",
       "    </tr>\n",
       "    <tr>\n",
       "      <th>119</th>\n",
       "      <td>2019-12-01</td>\n",
       "    </tr>\n",
       "    <tr>\n",
       "      <th>120</th>\n",
       "      <td>2020-01-01</td>\n",
       "    </tr>\n",
       "  </tbody>\n",
       "</table>\n",
       "</div>"
      ],
      "text/plain": [
       "            ds\n",
       "116 2019-09-01\n",
       "117 2019-10-01\n",
       "118 2019-11-01\n",
       "119 2019-12-01\n",
       "120 2020-01-01"
      ]
     },
     "execution_count": 11,
     "metadata": {},
     "output_type": "execute_result"
    }
   ],
   "source": [
    "future = m.make_future_dataframe(periods=3,freq='MS')\n",
    "future.tail()"
   ]
  },
  {
   "cell_type": "code",
   "execution_count": 12,
   "id": "d0508d4c",
   "metadata": {},
   "outputs": [
    {
     "data": {
      "text/html": [
       "<div>\n",
       "<style scoped>\n",
       "    .dataframe tbody tr th:only-of-type {\n",
       "        vertical-align: middle;\n",
       "    }\n",
       "\n",
       "    .dataframe tbody tr th {\n",
       "        vertical-align: top;\n",
       "    }\n",
       "\n",
       "    .dataframe thead th {\n",
       "        text-align: right;\n",
       "    }\n",
       "</style>\n",
       "<table border=\"1\" class=\"dataframe\">\n",
       "  <thead>\n",
       "    <tr style=\"text-align: right;\">\n",
       "      <th></th>\n",
       "      <th>ds</th>\n",
       "      <th>yhat</th>\n",
       "      <th>yhat_lower</th>\n",
       "      <th>yhat_upper</th>\n",
       "    </tr>\n",
       "  </thead>\n",
       "  <tbody>\n",
       "    <tr>\n",
       "      <th>116</th>\n",
       "      <td>2019-09-01</td>\n",
       "      <td>100.399785</td>\n",
       "      <td>92.614307</td>\n",
       "      <td>108.462216</td>\n",
       "    </tr>\n",
       "    <tr>\n",
       "      <th>117</th>\n",
       "      <td>2019-10-01</td>\n",
       "      <td>88.880560</td>\n",
       "      <td>80.944359</td>\n",
       "      <td>96.522028</td>\n",
       "    </tr>\n",
       "    <tr>\n",
       "      <th>118</th>\n",
       "      <td>2019-11-01</td>\n",
       "      <td>77.758784</td>\n",
       "      <td>70.377328</td>\n",
       "      <td>85.494885</td>\n",
       "    </tr>\n",
       "    <tr>\n",
       "      <th>119</th>\n",
       "      <td>2019-12-01</td>\n",
       "      <td>69.538349</td>\n",
       "      <td>61.770089</td>\n",
       "      <td>77.433633</td>\n",
       "    </tr>\n",
       "    <tr>\n",
       "      <th>120</th>\n",
       "      <td>2020-01-01</td>\n",
       "      <td>84.328546</td>\n",
       "      <td>76.674869</td>\n",
       "      <td>91.977255</td>\n",
       "    </tr>\n",
       "  </tbody>\n",
       "</table>\n",
       "</div>"
      ],
      "text/plain": [
       "            ds        yhat  yhat_lower  yhat_upper\n",
       "116 2019-09-01  100.399785   92.614307  108.462216\n",
       "117 2019-10-01   88.880560   80.944359   96.522028\n",
       "118 2019-11-01   77.758784   70.377328   85.494885\n",
       "119 2019-12-01   69.538349   61.770089   77.433633\n",
       "120 2020-01-01   84.328546   76.674869   91.977255"
      ]
     },
     "execution_count": 12,
     "metadata": {},
     "output_type": "execute_result"
    }
   ],
   "source": [
    "forecast = m.predict(future)\n",
    "forecast[['ds', 'yhat', 'yhat_lower', 'yhat_upper']].tail()"
   ]
  },
  {
   "cell_type": "code",
   "execution_count": 13,
   "id": "7271649b",
   "metadata": {},
   "outputs": [],
   "source": [
    "short_forecast = m.plot(forecast)"
   ]
  },
  {
   "cell_type": "code",
   "execution_count": 14,
   "id": "d4f8b793",
   "metadata": {},
   "outputs": [
    {
     "data": {
      "text/plain": [
       "<matplotlib.legend.Legend at 0x1f28e32ceb0>"
      ]
     },
     "execution_count": 14,
     "metadata": {},
     "output_type": "execute_result"
    }
   ],
   "source": [
    "#actual vs. predicted\n",
    "y_pred = m.predict(ic_test)\n",
    "m.plot(y_pred, uncertainty=True)\n",
    "plt.plot(ic_test['ds'], ic_test['y'], color='r', label='actual')\n",
    "plt.title('Validation data v. forecast')\n",
    "plt.legend()"
   ]
  },
  {
   "cell_type": "code",
   "execution_count": 15,
   "id": "e71a539f",
   "metadata": {},
   "outputs": [
    {
     "name": "stderr",
     "output_type": "stream",
     "text": [
      "INFO:prophet:Disabling weekly seasonality. Run prophet with weekly_seasonality=True to override this.\n",
      "INFO:prophet:Disabling daily seasonality. Run prophet with daily_seasonality=True to override this.\n",
      "WARNING:matplotlib.legend:No handles with labels found to put in legend.\n"
     ]
    },
    {
     "data": {
      "text/plain": [
       "<matplotlib.legend.Legend at 0x1f28e276580>"
      ]
     },
     "execution_count": 15,
     "metadata": {},
     "output_type": "execute_result"
    }
   ],
   "source": [
    "#long-term forecast\n",
    "\n",
    "#tuning\n",
    "interval=0.95\n",
    "periods=24\n",
    "\n",
    "#long-term model with complete dataset\n",
    "m2 = Prophet(interval_width=interval)\n",
    "m2.fit(ice_cream)\n",
    "future2 = m2.make_future_dataframe(periods=periods, freq='MS')\n",
    "forecast2 = m2.predict(future2)\n",
    "\n",
    "#plotting long-term forecast\n",
    "m2.plot(forecast2, uncertainty=True)\n",
    "plt.title(f'{periods}-month forecast')\n",
    "plt.legend()"
   ]
  },
  {
   "cell_type": "code",
   "execution_count": 16,
   "id": "dddf562c",
   "metadata": {},
   "outputs": [],
   "source": [
    "components = m.plot_components(forecast)"
   ]
  },
  {
   "cell_type": "markdown",
   "id": "02f0102f",
   "metadata": {},
   "source": [
    "# Performance Metrics\n",
    "We use standard regression metrics when evaluating the performance of a time series (e.g. Mean Absolute Error, Root Mean Squared Error,etc). A simple printout of the findings should give us some more details as to the true performance of the Prophet generated model. "
   ]
  },
  {
   "cell_type": "code",
   "execution_count": 17,
   "id": "e679c638",
   "metadata": {},
   "outputs": [],
   "source": [
    "predictions = y_pred['yhat']\n",
    "y_test = ic_test['y']\n",
    "y_test = y_test.reset_index(drop=True) # resetting index due to calculation issues"
   ]
  },
  {
   "cell_type": "code",
   "execution_count": 18,
   "id": "09ef05b9",
   "metadata": {},
   "outputs": [],
   "source": [
    "from sklearn import metrics\n",
    "import numpy as np\n",
    "\n",
    "MAE = metrics.mean_absolute_error(y_test,predictions)\n",
    "MAPE = metrics.mean_absolute_percentage_error(y_test,predictions)\n",
    "MSE = metrics.mean_squared_error(y_test,predictions)\n",
    "RMSE = np.sqrt(metrics.mean_squared_error(y_test,predictions))\n",
    "MedAE = metrics.median_absolute_error(y_test,predictions)\n",
    "MedAPE = np.median((np.abs(np.subtract(y_test, predictions)/ y_test))) * 100"
   ]
  },
  {
   "cell_type": "code",
   "execution_count": 19,
   "id": "fbcc361a",
   "metadata": {},
   "outputs": [
    {
     "name": "stdout",
     "output_type": "stream",
     "text": [
      "MAE: 2.94\n",
      "MAPE: 0.04 %\n",
      "MSE: 14.14\n",
      "RMSE: 3.76\n",
      "MedAE: 1.96\n",
      "MedAPE: 2.46 %\n"
     ]
    }
   ],
   "source": [
    "print('MAE:', np.round(MAE,2))\n",
    "print('MAPE:', np.round(MAPE,2),'%')\n",
    "print('MSE:', np.round(MSE,2))\n",
    "print('RMSE:', np.round(RMSE,2))\n",
    "print('MedAE:', np.round(MedAE,2))\n",
    "print('MedAPE:',np.round(MedAPE,2),'%')"
   ]
  },
  {
   "cell_type": "markdown",
   "id": "3ab09a01",
   "metadata": {},
   "source": [
    "# Conclusion\n",
    "The numbers in our performance metrics seem to indicate that the model performed well. Emphasis should be placed on the percentage error metrics as they will tell us a more concrete story about how well the model performed. With a MAPE (Mean Absolute Percentage Error) of only 0.04% and a MedAPE (Median Absolute Percentage Error) of just 2.46% the model did very well. We can see that even in a long forecast the model seems to have captured the overall ebb and flow of the dataset. Overall, these findings can give us confidence to potentially deploy this model into production."
   ]
  }
 ],
 "metadata": {
  "kernelspec": {
   "display_name": "Python 3",
   "language": "python",
   "name": "python3"
  },
  "language_info": {
   "codemirror_mode": {
    "name": "ipython",
    "version": 3
   },
   "file_extension": ".py",
   "mimetype": "text/x-python",
   "name": "python",
   "nbconvert_exporter": "python",
   "pygments_lexer": "ipython3",
   "version": "3.8.5"
  }
 },
 "nbformat": 4,
 "nbformat_minor": 5
}
